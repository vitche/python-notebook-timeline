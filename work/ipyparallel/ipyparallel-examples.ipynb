{
 "cells": [
  {
   "cell_type": "code",
   "execution_count": 4,
   "metadata": {},
   "outputs": [],
   "source": [
    "import os\n",
    "import ipyparallel"
   ]
  },
  {
   "cell_type": "code",
   "execution_count": 2,
   "metadata": {},
   "outputs": [
    {
     "name": "stdout",
     "output_type": "stream",
     "text": [
      "profile: default\n",
      "IDs: [0, 1, 2, 3, 4]\n"
     ]
    }
   ],
   "source": [
    "cluster = ipyparallel.Client(profile='default', url_file='/root/.ipython/profile_default/security/ipcontroller-client.json')\n",
    "print('profile:', cluster.profile)\n",
    "print(\"IDs:\", cluster.ids)"
   ]
  },
  {
   "cell_type": "code",
   "execution_count": 27,
   "metadata": {},
   "outputs": [
    {
     "name": "stdout",
     "output_type": "stream",
     "text": [
      "{0: 6641, 1: 6224, 2: 6465, 3: 6482, 4: 6249}\n"
     ]
    }
   ],
   "source": [
    "result = cluster[:].apply_async(os.getpid)\n",
    "print(result.get_dict())"
   ]
  },
  {
   "cell_type": "code",
   "execution_count": 29,
   "metadata": {},
   "outputs": [
    {
     "name": "stdout",
     "output_type": "stream",
     "text": [
      "{0: 65536, 1: 65536, 2: 65536, 3: 65536, 4: 65536}\n"
     ]
    }
   ],
   "source": [
    "def square(x):\n",
    "    return x*x\n",
    "result = cluster[:].apply_async(square, (256))\n",
    "print(result.get_dict())"
   ]
  }
 ],
 "metadata": {
  "kernelspec": {
   "display_name": "Python 3",
   "language": "python",
   "name": "python3"
  },
  "language_info": {
   "codemirror_mode": {
    "name": "ipython",
    "version": 3
   },
   "file_extension": ".py",
   "mimetype": "text/x-python",
   "name": "python",
   "nbconvert_exporter": "python",
   "pygments_lexer": "ipython3",
   "version": "3.8.2"
  }
 },
 "nbformat": 4,
 "nbformat_minor": 4
}
