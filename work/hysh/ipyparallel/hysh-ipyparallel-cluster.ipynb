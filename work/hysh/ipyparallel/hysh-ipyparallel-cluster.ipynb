{
 "cells": [
  {
   "cell_type": "markdown",
   "id": "improving-daisy",
   "metadata": {},
   "source": [
    "# HyperShell \"ipyparallel\" cluster deployment"
   ]
  },
  {
   "cell_type": "code",
   "execution_count": null,
   "id": "returning-backup",
   "metadata": {},
   "outputs": [],
   "source": [
    "import json\n",
    "import tempfile\n",
    "from enum import Enum\n",
    "\n",
    "class ShellTemplate:\n",
    "    \n",
    "    def __init__(self, template):\n",
    "        self.template = template\n",
    "    \n",
    "    def process(self, arguments):\n",
    "        \n",
    "        result = self.template\n",
    "        for key in arguments:\n",
    "            result = result.replace(\"{\" + key + \"}\", arguments[key])\n",
    "        return result\n",
    "    \n",
    "    def save(self, arguments): \n",
    "        \n",
    "        result = self.process(arguments)\n",
    "        \n",
    "        file = NamedTemporaryFile(delete=False)\n",
    "        file.write(result)\n",
    "        file.close()\n",
    "        \n",
    "        return f.name\n",
    "    \n",
    "class HyperShellTemplate(ShellTemplate):\n",
    "    \n",
    "    def __init__(self, template):\n",
    "        super().__init__(template) \n",
    "    \n",
    "    def process(self, arguments, clusterDefinition):\n",
    "        \n",
    "        result = super().process(arguments)\n",
    "        \n",
    "        file = tempfile.NamedTemporaryFile(delete=False)\n",
    "        file.write(result.encode())\n",
    "        file.close()\n",
    "        \n",
    "        !hysh $clusterDefinition $file.name\n",
    "        \n",
    "class TCPPortRange:\n",
    "    \n",
    "    def __init__(self, start):\n",
    "        self.start = start\n",
    "        \n",
    "    def next(self):\n",
    "        result = self.start\n",
    "        self.start = self.start + 1\n",
    "        return str(result)"
   ]
  },
  {
   "cell_type": "code",
   "execution_count": null,
   "id": "stretch-missile",
   "metadata": {},
   "outputs": [],
   "source": [
    "class HyperShellClusterOperationType(Enum):\n",
    "    SETTINGS = 1\n",
    "    CONTROLLER = 2\n",
    "    WORKER = 3\n",
    "\n",
    "class HyperShellClusterOperationFormat(Enum):\n",
    "    TEXT = 1\n",
    "    JSON = 2\n",
    "\n",
    "class HyperShellCluster:\n",
    "        \n",
    "    def process(self, operation):\n",
    "        if HyperShellClusterOperationType.SETTINGS == operation.operationType:\n",
    "            self.settings = operation.payload\n",
    "        elif HyperShellClusterOperationType.CONTROLLER == operation.operationType:\n",
    "            return operation.process(self.settings)\n",
    "        elif HyperShellClusterOperationType.WORKER == operation.operationType:\n",
    "            return operation.process(self.settings)\n",
    "        \n",
    "class HyperShellClusterOperation:\n",
    "\n",
    "    def __init__(self, operationType, payload, outputFormat):\n",
    "        self.operationType = operationType\n",
    "        self.payload = payload\n",
    "        self.outputFormat = outputFormat\n",
    "\n",
    "    def process(self, settings):     \n",
    "\n",
    "        outputFormat = \"stream+text\"\n",
    "        if HyperShellClusterOperationFormat.JSON == self.outputFormat:\n",
    "            outputFormat = \"stream+json\"\n",
    "\n",
    "        if isinstance(self.payload, HyperShellTemplate):\n",
    "            if HyperShellClusterOperationType.CONTROLLER == self.operationType:\n",
    "                return self.payload.process(settings, settings[\"CONTROLLER_CLUSTER_DEFINITION\"])\n",
    "            elif HyperShellClusterOperationType.WORKER == self.operationType:\n",
    "                return self.payload.process(settings, settings[\"WORKER_CLUSTER_DEFINITION\"])\n",
    "        else:\n",
    "            if HyperShellClusterOperationType.CONTROLLER == self.operationType:\n",
    "                path = settings[\"CONTROLLER_CLUSTER_DEFINITION\"]\n",
    "                command = f\"\\\"{self.payload}\\\"\"\n",
    "                response=!hysh $path $command --format $outputFormat\n",
    "                return response\n",
    "            elif HyperShellClusterOperationType.WORKER == self.operationType:\n",
    "                path = settings[\"WORKER_CLUSTER_DEFINITION\"]\n",
    "                command = f\"\\\"{self.payload}\\\"\"\n",
    "                response=!hysh $path $command --format $outputFormat\n",
    "                return response\n",
    "\n",
    "class HyperShellClusterCLI:\n",
    "    \n",
    "    def __init__(self):\n",
    "        self.cluster = HyperShellCluster()\n",
    "\n",
    "    def c(self, payload):\n",
    "        return self.cluster.process(HyperShellClusterOperation(HyperShellClusterOperationType.CONTROLLER, payload, HyperShellClusterOperationFormat.TEXT))\n",
    "\n",
    "    def cj(self, payload):\n",
    "        result = self.cluster.process(HyperShellClusterOperation(HyperShellClusterOperationType.CONTROLLER, payload, HyperShellClusterOperationFormat.JSON))\n",
    "        # Get standart output\n",
    "        result = result[0]\n",
    "        # Remove comma from the JSON stream\n",
    "        result = result.rstrip(\",\")\n",
    "        # Parse JSON response\n",
    "        result = json.loads(result)\n",
    "        # Extract HySh transaction output\n",
    "        result = result[\"output\"]\n",
    "        # Parse transaction output\n",
    "        result = json.loads(result)\n",
    "        return result\n",
    "\n",
    "    def ct(self, payload):\n",
    "        template = HyperShellTemplate(payload)\n",
    "        return self.cluster.process(HyperShellClusterOperation(HyperShellClusterOperationType.CONTROLLER, template, HyperShellClusterOperationFormat.TEXT))\n",
    "    \n",
    "    def s(self, payload):\n",
    "        return self.cluster.process(HyperShellClusterOperation(HyperShellClusterOperationType.SETTINGS, payload, HyperShellClusterOperationFormat.TEXT))\n",
    "\n",
    "    def w(self, payload):\n",
    "        return self.cluster.process(HyperShellClusterOperation(HyperShellClusterOperationType.WORKER, payload, HyperShellClusterOperationFormat.TEXT))\n",
    "    \n",
    "    def wt(self, payload):\n",
    "        template = HyperShellTemplate(payload)\n",
    "        return self.cluster.process(HyperShellClusterOperation(HyperShellClusterOperationType.WORKER, template, HyperShellClusterOperationFormat.TEXT))"
   ]
  },
  {
   "cell_type": "markdown",
   "id": "qualified-signal",
   "metadata": {},
   "source": [
    "## Cluster settings"
   ]
  },
  {
   "cell_type": "code",
   "execution_count": null,
   "id": "dutch-butter",
   "metadata": {},
   "outputs": [],
   "source": [
    "# In the firewall rule, we can reserve 10 * 11 = 110 ports \n",
    "# to be able to re-start controller 10 times\n",
    "# So, we expose ports from 8081 to 8910\n",
    "portRange = TCPPortRange(9801)"
   ]
  },
  {
   "cell_type": "code",
   "execution_count": null,
   "id": "criminal-identity",
   "metadata": {},
   "outputs": [],
   "source": [
    "# 11 ports for each controller instance\n",
    "settings = {\n",
    "    \"CONTROLLER_CLUSTER_DEFINITION\": \"~/controllers.cluster.json\",\n",
    "    \"WORKER_CLUSTER_DEFINITION\": \"~/workers.cluster.json\",\n",
    "    \"BIND_IP_ADDRESS\": \"0.0.0.0\",\n",
    "    \"LOCATION_IP_ADDRESS\": \"34.239.11.167\",\n",
    "    \"REGISTRATION_PORT\": portRange.next(),\n",
    "    \"CONTROL_PORT_1\": portRange.next(),\n",
    "    \"CONTROL_PORT_2\": portRange.next(),\n",
    "    \"MUX_PORT_1\": portRange.next(),\n",
    "    \"MUX_PORT_2\": portRange.next(),\n",
    "    \"HB_PING_PORT\": portRange.next(),\n",
    "    \"HB_PONG_PORT\": portRange.next(),\n",
    "    \"TASK_PORT_1\": portRange.next(),\n",
    "    \"TASK_PORT_2\": portRange.next(),\n",
    "    \"IOPUB_PORT_1\": portRange.next(),\n",
    "    \"IOPUB_PORT_2\": portRange.next(),\n",
    "    # \"NOTIFICATION_PORT\": portRange.next()\n",
    "}"
   ]
  },
  {
   "cell_type": "markdown",
   "id": "adopted-coach",
   "metadata": {},
   "source": [
    "## Create the cluster"
   ]
  },
  {
   "cell_type": "code",
   "execution_count": null,
   "id": "fourth-immigration",
   "metadata": {},
   "outputs": [],
   "source": [
    "cluster = HyperShellClusterCLI()\n",
    "cluster.s(settings)"
   ]
  },
  {
   "cell_type": "markdown",
   "id": "correct-church",
   "metadata": {},
   "source": [
    "## Install \"ipyparallel\""
   ]
  },
  {
   "cell_type": "code",
   "execution_count": null,
   "id": "circular-aside",
   "metadata": {},
   "outputs": [],
   "source": [
    "controllersResponse = cluster.c(\"pip install ipyparallel\")\n",
    "workersResponse = cluster.w(\"pip install ipyparallel\")\n",
    "print(controllersResponse)\n",
    "print(workersResponse)"
   ]
  },
  {
   "cell_type": "markdown",
   "id": "prerequisite-ministry",
   "metadata": {},
   "source": [
    "## Start the controller"
   ]
  },
  {
   "cell_type": "code",
   "execution_count": null,
   "id": "boolean-kidney",
   "metadata": {},
   "outputs": [],
   "source": [
    "cluster.ct(\"\"\"\n",
    "ipcontroller \\\n",
    "    --log-level=DEBUG \\\n",
    "    --log-to-file=True \\\n",
    "    --ip={BIND_IP_ADDRESS} \\\n",
    "    --location={LOCATION_IP_ADDRESS} \\\n",
    "    --HubFactory.regport={REGISTRATION_PORT} \\\n",
    "    --HubFactory.hb={HB_PING_PORT},{HB_PONG_PORT} \\\n",
    "    --HubFactory.control={CONTROL_PORT_1},{CONTROL_PORT_2} \\\n",
    "    --HubFactory.mux={MUX_PORT_1},{MUX_PORT_2} \\\n",
    "    --HubFactory.iopub={IOPUB_PORT_1},{IOPUB_PORT_2} \\\n",
    "    --HubFactory.task={TASK_PORT_1},{TASK_PORT_2} | tee\n",
    "\"\"\")"
   ]
  },
  {
   "cell_type": "code",
   "execution_count": null,
   "id": "generic-deficit",
   "metadata": {},
   "outputs": [],
   "source": [
    "remoteSettings = cluster.cj(\"cat ~/.ipython/profile_default/security/ipcontroller-engine.json | tee\")\n",
    "settings[\"KEY\"] = remoteSettings[\"key\"]\n",
    "cluster.s(settings)"
   ]
  },
  {
   "cell_type": "code",
   "execution_count": null,
   "id": "empty-bidding",
   "metadata": {},
   "outputs": [],
   "source": [
    "print(cluster.cluster.settings)"
   ]
  },
  {
   "cell_type": "markdown",
   "id": "otherwise-season",
   "metadata": {},
   "source": [
    "## Write engine settings"
   ]
  },
  {
   "cell_type": "code",
   "execution_count": null,
   "id": "bright-hurricane",
   "metadata": {},
   "outputs": [],
   "source": [
    "cluster.wt(\"\"\"\n",
    "mkdir -p ~/.ipython/profile_default/security\n",
    "echo \"{ \\\n",
    "  \\\\\"ssh\\\\\": \\\\\"\\\\\", \\\n",
    "  \\\\\"interface\\\\\": \\\\\"tcp://{LOCATION_IP_ADDRESS}\\\\\", \\\n",
    "  \\\\\"registration\\\\\": {REGISTRATION_PORT}, \\\n",
    "  \\\\\"control\\\\\": {CONTROL_PORT_2}, \\\n",
    "  \\\\\"mux\\\\\": {MUX_PORT_2}, \\\n",
    "  \\\\\"hb_ping\\\\\": {HB_PING_PORT}, \\\n",
    "  \\\\\"hb_pong\\\\\": {HB_PONG_PORT}, \\\n",
    "  \\\\\"task\\\\\": {TASK_PORT_2}, \\\n",
    "  \\\\\"iopub\\\\\": {IOPUB_PORT_2}, \\\n",
    "  \\\\\"key\\\\\": \\\\\"{KEY}\\\\\", \\\n",
    "  \\\\\"location\\\\\": \\\\\"{LOCATION_IP_ADDRESS}\\\\\", \\\n",
    "  \\\\\"pack\\\\\": \\\\\"json\\\\\", \\\n",
    "  \\\\\"unpack\\\\\": \\\\\"json\\\\\", \\\n",
    "  \\\\\"signature_scheme\\\\\": \\\\\"hmac-sha256\\\\\" \\\n",
    "}\" > ~/.ipython/profile_default/security/ipcontroller-engine.json\n",
    "\"\"\")"
   ]
  },
  {
   "cell_type": "code",
   "execution_count": null,
   "id": "south-shakespeare",
   "metadata": {},
   "outputs": [],
   "source": [
    "cluster.w(\"cat ~/.ipython/profile_default/security/ipcontroller-engine.json\")"
   ]
  },
  {
   "cell_type": "markdown",
   "id": "oriented-section",
   "metadata": {},
   "source": [
    "## Start engines"
   ]
  },
  {
   "cell_type": "code",
   "execution_count": null,
   "id": "broadband-edward",
   "metadata": {},
   "outputs": [],
   "source": [
    "cluster.w(\"ipengine --log-level=DEBUG --log-to-file=True --profile-dir=~/.ipython/profile_default/ &\")"
   ]
  },
  {
   "cell_type": "markdown",
   "id": "oriented-suction",
   "metadata": {},
   "source": [
    "## Check engines"
   ]
  },
  {
   "cell_type": "code",
   "execution_count": null,
   "id": "legislative-kernel",
   "metadata": {},
   "outputs": [],
   "source": [
    "cluster.c(\"ps\")"
   ]
  },
  {
   "cell_type": "code",
   "execution_count": null,
   "id": "sticky-killer",
   "metadata": {},
   "outputs": [],
   "source": [
    "cluster.w(\"ps\")"
   ]
  },
  {
    "cell_type": "code",
    "execution_count": null,
    "id": "sticky-young",
    "metadata": {},
    "outputs": [],
    "source": [
        "!hysh ~/controllers.cluster.json \"cat ~/.ipython/profile_default/log/*\""
    ]
  },
  {
    "cell_type": "code",
    "execution_count": null,
    "id": "sticky-dicker",
    "metadata": {},
    "outputs": [],
    "source": [
       "!hysh ~/workers.cluster.json \"cat ~/.ipython/profile_default/log/ipengine*\""
    ]
  }
 ],
 "metadata": {
  "kernelspec": {
   "display_name": "Python 3",
   "language": "python",
   "name": "python3"
  },
  "language_info": {
   "codemirror_mode": {
    "name": "ipython",
    "version": 3
   },
   "file_extension": ".py",
   "mimetype": "text/x-python",
   "name": "python",
   "nbconvert_exporter": "python",
   "pygments_lexer": "ipython3",
   "version": "3.8.6"
  }
 },
 "nbformat": 4,
 "nbformat_minor": 5
}
